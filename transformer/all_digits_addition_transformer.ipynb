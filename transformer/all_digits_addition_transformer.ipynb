{
 "cells": [
  {
   "cell_type": "code",
   "execution_count": 42,
   "metadata": {},
   "outputs": [],
   "source": [
    "import torch\n",
    "import torch.nn as nn\n",
    "import numpy as np\n",
    "import torch.nn.functional as F\n",
    "import torch.optim as optim\n",
    "import matplotlib.pyplot as plt\n",
    "import random"
   ]
  },
  {
   "cell_type": "code",
   "execution_count": 43,
   "metadata": {},
   "outputs": [],
   "source": [
    "dataset = set()\n",
    "\n",
    "def generate_number(num_digits):\n",
    "  return random.randint(10**(num_digits-1),10**num_digits-1)\n",
    "\n",
    "num_iterations = int(2e1)\n",
    "masks_idx = torch.zeros(num_iterations, dtype=torch.long)\n",
    "\n",
    "with open('addition.txt','w') as f:\n",
    "  for i in range(num_iterations):\n",
    "    d1 = random.randint(1,5)\n",
    "    d2 = random.randint(1,5)\n",
    "    a = generate_number(d1)\n",
    "    b = generate_number(d2)\n",
    "    c = a+b\n",
    "    masks_idx[i] = d1 + d2\n",
    "    f.write(f'{a}+{b}={c}%')\n",
    "    f.write('\\n')\n",
    "\n",
    "with open('addition.txt','r') as f:\n",
    "    for line in f:\n",
    "        line = line.strip()\n",
    "        dataset.add(line)\n",
    "\n",
    "vocab_size = 13"
   ]
  },
  {
   "cell_type": "code",
   "execution_count": 44,
   "metadata": {},
   "outputs": [
    {
     "data": {
      "text/plain": [
       "tensor([5, 8, 7, 4, 7, 7, 6, 8, 2, 7, 4, 4, 9, 5, 9, 4, 4, 6, 2, 2])"
      ]
     },
     "execution_count": 44,
     "metadata": {},
     "output_type": "execute_result"
    }
   ],
   "source": [
    "masks_idx"
   ]
  },
  {
   "cell_type": "code",
   "execution_count": 45,
   "metadata": {},
   "outputs": [
    {
     "name": "stdout",
     "output_type": "stream",
     "text": [
      "[1, 2, 3, 2, 3, 10, 1, 2, 3, 2, 1, 11, 3, 4, 3, 1, 1]\n"
     ]
    }
   ],
   "source": [
    "encode = lambda s: [10 if c == '+' else 11 if c == '=' else 12 if c == '%' else int(c) for c in s]\n",
    "decode = lambda l: (['+' if c == 10 else '=' if c == 11 else '%' if c == 12 else c.item() for c in l])\n",
    "print(encode('12323+12321=34311'))\n",
    "\n",
    "def real_decode(l):\n",
    "  return ''.join(map(str,decode(l)))"
   ]
  },
  {
   "cell_type": "code",
   "execution_count": 46,
   "metadata": {},
   "outputs": [
    {
     "name": "stdout",
     "output_type": "stream",
     "text": [
      "shape: torch.Size([19, 17])\n"
     ]
    }
   ],
   "source": [
    "max_length = max(len(encode(line)) for line in dataset) \n",
    "tensor_np = np.full((len(dataset), max_length), 12, dtype=int)\n",
    "\n",
    "for i, line in enumerate(dataset):\n",
    "    encoded_line = encode(line)\n",
    "    tensor_np[i, :len(encoded_line)] = encoded_line\n",
    "\n",
    "data = torch.tensor(tensor_np, dtype=torch.long)\n",
    "\n",
    "print(\"shape:\", data.shape)"
   ]
  },
  {
   "cell_type": "code",
   "execution_count": 47,
   "metadata": {},
   "outputs": [
    {
     "data": {
      "text/plain": [
       "tensor([[ 2,  7,  6, 10,  3, 11,  2,  7,  9, 12, 12, 12, 12, 12, 12, 12, 12],\n",
       "        [ 4, 10,  6, 11,  1,  0, 12, 12, 12, 12, 12, 12, 12, 12, 12, 12, 12],\n",
       "        [ 8,  5,  8, 10,  9,  3,  8,  7,  0, 11,  9,  4,  7,  2,  8, 12, 12],\n",
       "        [ 1,  3,  9,  5, 10,  8,  5,  3,  1,  8, 11,  8,  6,  7,  1,  3, 12],\n",
       "        [ 1,  8,  9, 10,  9,  1,  7,  1, 11,  9,  3,  6,  0, 12, 12, 12, 12],\n",
       "        [ 5, 10,  5, 11,  1,  0, 12, 12, 12, 12, 12, 12, 12, 12, 12, 12, 12],\n",
       "        [ 4,  2,  8,  5, 10,  8,  6,  0,  5,  1, 11,  9,  0,  3,  3,  6, 12],\n",
       "        [ 2,  5,  3, 10,  2,  2,  8, 11,  4,  8,  1, 12, 12, 12, 12, 12, 12],\n",
       "        [ 7, 10,  6,  3,  6, 11,  6,  4,  3, 12, 12, 12, 12, 12, 12, 12, 12],\n",
       "        [ 3,  2,  4,  4, 10,  6,  5, 11,  3,  3,  0,  9, 12, 12, 12, 12, 12],\n",
       "        [ 1,  9,  5, 10,  9, 11,  2,  0,  4, 12, 12, 12, 12, 12, 12, 12, 12],\n",
       "        [ 8,  0,  2, 10,  7,  2,  0,  2,  8, 11,  7,  2,  8,  3,  0, 12, 12],\n",
       "        [ 2,  9,  7, 10,  7,  5,  6,  4, 11,  7,  8,  6,  1, 12, 12, 12, 12],\n",
       "        [ 3,  9,  7,  5,  0, 10,  4,  2, 11,  3,  9,  7,  9,  2, 12, 12, 12],\n",
       "        [ 1,  4, 10,  7,  5,  4, 11,  7,  6,  8, 12, 12, 12, 12, 12, 12, 12],\n",
       "        [ 3,  8, 10,  1,  0, 11,  4,  8, 12, 12, 12, 12, 12, 12, 12, 12, 12],\n",
       "        [ 9,  7,  3,  7, 10,  7,  2,  7, 11,  1,  0,  4,  6,  4, 12, 12, 12],\n",
       "        [ 4, 10,  1,  2,  1,  8, 11,  1,  2,  2,  2, 12, 12, 12, 12, 12, 12],\n",
       "        [ 5,  9,  6, 10,  1, 11,  5,  9,  7, 12, 12, 12, 12, 12, 12, 12, 12]])"
      ]
     },
     "execution_count": 47,
     "metadata": {},
     "output_type": "execute_result"
    }
   ],
   "source": [
    "data"
   ]
  },
  {
   "cell_type": "code",
   "execution_count": 48,
   "metadata": {},
   "outputs": [],
   "source": [
    "masks_idx = torch.where(data == 11)[1]"
   ]
  },
  {
   "cell_type": "code",
   "execution_count": 49,
   "metadata": {},
   "outputs": [
    {
     "data": {
      "text/plain": [
       "tensor([ 5,  3,  9, 10,  8,  3, 10,  7,  5,  7,  5,  9,  8,  8,  6,  5,  8,  6,\n",
       "         5])"
      ]
     },
     "execution_count": 49,
     "metadata": {},
     "output_type": "execute_result"
    }
   ],
   "source": [
    "masks_idx"
   ]
  },
  {
   "cell_type": "code",
   "execution_count": 41,
   "metadata": {},
   "outputs": [
    {
     "name": "stdout",
     "output_type": "stream",
     "text": [
      "tensor([10, 14, 14,  0, 19])\n",
      "tensor([[ 0,  4, 10,  1,  0,  1,  3, 11,  1,  0,  0,  2,  1,  7],\n",
      "        [ 5,  0,  8,  4, 11,  5,  1,  7,  9, 12, 12, 12, 12, 12],\n",
      "        [ 5,  0,  8,  4, 11,  5,  1,  7,  9, 12, 12, 12, 12, 12],\n",
      "        [ 7,  6,  3,  3, 11,  7,  6,  7,  2, 12, 12, 12, 12, 12],\n",
      "        [10,  4, 11,  2,  7,  7, 12, 12, 12, 12, 12, 12, 12, 12]])\n",
      "tensor([[ 4, 10,  1,  0,  1,  3, 11,  1,  0,  0,  2,  1,  7, 12],\n",
      "        [ 0,  8,  4, 11,  5,  1,  7,  9, 12, 12, 12, 12, 12, 12],\n",
      "        [ 0,  8,  4, 11,  5,  1,  7,  9, 12, 12, 12, 12, 12, 12],\n",
      "        [ 6,  3,  3, 11,  7,  6,  7,  2, 12, 12, 12, 12, 12, 12],\n",
      "        [ 4, 11,  2,  7,  7, 12, 12, 12, 12, 12, 12, 12, 12, 12]])\n",
      "tensor([[ 9,  9,  2,  0,  4, 10,  1,  0,  1,  3, 11,  1,  0,  0,  2,  1,  7, 12],\n",
      "        [ 9,  5, 10,  5,  0,  8,  4, 11,  5,  1,  7,  9, 12, 12, 12, 12, 12, 12],\n",
      "        [ 9,  5, 10,  5,  0,  8,  4, 11,  5,  1,  7,  9, 12, 12, 12, 12, 12, 12],\n",
      "        [ 3,  9, 10,  7,  6,  3,  3, 11,  7,  6,  7,  2, 12, 12, 12, 12, 12, 12],\n",
      "        [ 2,  7,  3, 10,  4, 11,  2,  7,  7, 12, 12, 12, 12, 12, 12, 12, 12, 12]])\n"
     ]
    }
   ],
   "source": [
    "ix = torch.randint(len(data),(5,))\n",
    "logits = torch.stack([data[i][3:-1] for i in ix])\n",
    "targets = torch.stack([data[i][4:] for i in ix])\n",
    "mask = torch.ones(5,15)\n",
    "\n",
    "# Assuming masks_idx is a tensor of shape (5,) containing the values used in the loop\n",
    "masks_idx = masks_idx[ix]  # Select the relevant indices\n",
    "\n",
    "# Create a range tensor\n",
    "range_tensor = torch.arange(15).unsqueeze(0).expand(5, -1)\n",
    "\n",
    "# Create the mask in one step\n",
    "mask = (range_tensor < (masks_idx - 4 - 1).unsqueeze(1)).float()\n",
    "\n",
    "print(ix)\n",
    "#print(mask)\n",
    "print(logits)\n",
    "print(targets)\n",
    "print(torch.stack([data[i] for i in ix]))"
   ]
  },
  {
   "cell_type": "code",
   "execution_count": 18,
   "metadata": {},
   "outputs": [
    {
     "data": {
      "text/plain": [
       "tensor([ 1, 10,  5,  3,  4,  4,  6, 11,  5,  3,  4,  4,  7, 12, 12, 12, 12, 12])"
      ]
     },
     "execution_count": 18,
     "metadata": {},
     "output_type": "execute_result"
    }
   ],
   "source": [
    "data[15]"
   ]
  },
  {
   "cell_type": "code",
   "execution_count": 22,
   "metadata": {},
   "outputs": [
    {
     "data": {
      "text/plain": [
       "tensor([6, 8, 6, 8, 9, 6, 9, 8, 6, 3, 9, 2, 9, 4, 4, 6, 5, 7, 7, 8])"
      ]
     },
     "execution_count": 22,
     "metadata": {},
     "output_type": "execute_result"
    }
   ],
   "source": [
    "masks_idx"
   ]
  },
  {
   "cell_type": "code",
   "execution_count": 23,
   "metadata": {},
   "outputs": [
    {
     "data": {
      "text/plain": [
       "tensor([[ 3,  9, 10,  7,  6,  3,  3, 11,  7,  6,  7,  2, 12, 12, 12, 12, 12, 12],\n",
       "        [ 4,  0, 10,  8,  2,  4,  8, 11,  8,  2,  8,  8, 12, 12, 12, 12, 12, 12],\n",
       "        [ 8, 10,  8,  0,  0,  0,  9, 11,  8,  0,  0,  1,  7, 12, 12, 12, 12, 12],\n",
       "        [ 5, 10,  3, 11,  8, 12, 12, 12, 12, 12, 12, 12, 12, 12, 12, 12, 12, 12],\n",
       "        [ 2,  1,  9,  8, 10,  6,  2,  5,  2, 11,  8,  4,  5,  0, 12, 12, 12, 12],\n",
       "        [ 6,  2,  3,  5, 10,  8,  0,  2,  7, 11,  1,  4,  2,  6,  2, 12, 12, 12],\n",
       "        [ 7,  6, 10,  7,  9,  9,  4,  7, 11,  8,  0,  0,  2,  3, 12, 12, 12, 12],\n",
       "        [ 9,  4,  6, 10,  3,  5,  5,  2,  6, 11,  3,  6,  4,  7,  2, 12, 12, 12],\n",
       "        [ 2, 10,  2,  4,  0,  2, 11,  2,  4,  0,  4, 12, 12, 12, 12, 12, 12, 12],\n",
       "        [ 8,  3,  4,  2, 10,  2,  6,  3,  9,  4, 11,  3,  4,  7,  3,  6, 12, 12],\n",
       "        [ 9,  9,  2,  0,  4, 10,  1,  0,  1,  3, 11,  1,  0,  0,  2,  1,  7, 12],\n",
       "        [ 4,  0,  5,  3, 10,  4,  3,  2,  4,  5, 11,  4,  7,  2,  9,  8, 12, 12],\n",
       "        [ 4, 10,  7,  1,  5, 11,  7,  1,  9, 12, 12, 12, 12, 12, 12, 12, 12, 12],\n",
       "        [ 3,  5,  1, 10,  6,  7,  0,  0, 11,  7,  0,  5,  1, 12, 12, 12, 12, 12],\n",
       "        [ 9,  5, 10,  5,  0,  8,  4, 11,  5,  1,  7,  9, 12, 12, 12, 12, 12, 12],\n",
       "        [ 1, 10,  5,  3,  4,  4,  6, 11,  5,  3,  4,  4,  7, 12, 12, 12, 12, 12],\n",
       "        [ 8,  8,  0,  3,  6, 10,  5,  1,  2, 11,  8,  8,  5,  4,  8, 12, 12, 12],\n",
       "        [ 9,  8,  5,  2, 10,  1,  0,  6,  1,  8, 11,  2,  0,  4,  7,  0, 12, 12],\n",
       "        [ 1, 10,  1,  0, 11,  1,  1, 12, 12, 12, 12, 12, 12, 12, 12, 12, 12, 12],\n",
       "        [ 2,  7,  3, 10,  4, 11,  2,  7,  7, 12, 12, 12, 12, 12, 12, 12, 12, 12]])"
      ]
     },
     "execution_count": 23,
     "metadata": {},
     "output_type": "execute_result"
    }
   ],
   "source": [
    "data"
   ]
  }
 ],
 "metadata": {
  "kernelspec": {
   "display_name": "Python 3",
   "language": "python",
   "name": "python3"
  },
  "language_info": {
   "codemirror_mode": {
    "name": "ipython",
    "version": 3
   },
   "file_extension": ".py",
   "mimetype": "text/x-python",
   "name": "python",
   "nbconvert_exporter": "python",
   "pygments_lexer": "ipython3",
   "version": "3.9.6"
  }
 },
 "nbformat": 4,
 "nbformat_minor": 2
}
