{
  "cells": [
    {
      "cell_type": "code",
      "execution_count": 2,
      "metadata": {
        "id": "HJ8kGOvTGVgf"
      },
      "outputs": [],
      "source": [
        "import torch\n",
        "import torch.nn as nn\n",
        "import numpy as np\n",
        "import torch.nn.functional as F\n",
        "import torch.optim as optim\n",
        "import matplotlib.pyplot as plt\n",
        "import random\n",
        "\n",
        "# hyperparameters\n",
        "batch_size = 64 #how many examples to process together at once\n",
        "block_size = 19 #context length\n",
        "max_iters = 16000\n",
        "eval_interval = 400\n",
        "learning_rate = 0.00008 #for two layer\n",
        "#learning_rate = 0.0004\n",
        "device = 'cuda' if torch.cuda.is_available() else 'cpu'\n",
        "eval_iters = 200\n",
        "n_embd = 512\n",
        "n_head = 3\n",
        "n_layer = 2\n",
        "dropout = 0.2"
      ]
    },
    {
      "cell_type": "code",
      "execution_count": 3,
      "metadata": {
        "id": "CtZDWUeLKjGC"
      },
      "outputs": [],
      "source": [
        "dataset = set()\n",
        "with open('addition.txt','w') as f:\n",
        "    for i in range(2000000):\n",
        "        a = random.randint(10000,99999)\n",
        "        b = random.randint(10000,99999)\n",
        "        c = a+b\n",
        "        f.write(f'{a}+{b}={c}%')\n",
        "\n",
        "with open('addition.txt','r') as f:\n",
        "    for line in f:\n",
        "        dataset.add(line)\n",
        "\n",
        "vocab_size = 13"
      ]
    },
    {
      "cell_type": "code",
      "execution_count": 4,
      "metadata": {
        "colab": {
          "base_uri": "https://localhost:8080/"
        },
        "id": "ao3UlYITvV8b",
        "outputId": "08095797-e740-434f-ddec-ddab6bfa5ddf"
      },
      "outputs": [
        {
          "name": "stdout",
          "output_type": "stream",
          "text": [
            "[1, 2, 3, 2, 3, 10, 1, 2, 3, 2, 1, 11, 3, 4, 3, 1, 1]\n"
          ]
        }
      ],
      "source": [
        "encode = lambda s: [10 if c == '+' else 11 if c == '=' else 12 if c == '%' else int(c) for c in s]\n",
        "decode = lambda l: (['+' if c == 10 else '=' if c == 11 else '\\n' if c == 12 else c.item() for c in l])\n",
        "print(encode('12323+12321=34311'))\n",
        "\n",
        "def real_decode(l):\n",
        "  return ''.join(map(str,decode(l)))"
      ]
    },
    {
      "cell_type": "code",
      "execution_count": 5,
      "metadata": {
        "colab": {
          "base_uri": "https://localhost:8080/"
        },
        "id": "Bqz28dIdvYy9",
        "outputId": "b1d941d3-4e4f-4b1a-810c-b2b3522e8eec"
      },
      "outputs": [
        {
          "name": "stdout",
          "output_type": "stream",
          "text": [
            "shape: torch.Size([1, 37210935])\n"
          ]
        }
      ],
      "source": [
        "max_length = max(len(encode(line)) for line in dataset)\n",
        "tensor_np = np.full((len(dataset), max_length), 12, dtype=int)\n",
        "\n",
        "for i, line in enumerate(dataset):\n",
        "    encoded_line = encode(line)\n",
        "    tensor_np[i, :len(encoded_line)] = encoded_line\n",
        "\n",
        "data = torch.tensor(tensor_np, dtype=torch.long)\n",
        "\n",
        "print(\"shape:\", data.shape)"
      ]
    },
    {
      "cell_type": "code",
      "execution_count": 6,
      "metadata": {
        "colab": {
          "base_uri": "https://localhost:8080/"
        },
        "id": "9u4hBHW7vbpL",
        "outputId": "7fea7e36-6e32-4c98-9c44-2b937beaa1b9"
      },
      "outputs": [
        {
          "name": "stdout",
          "output_type": "stream",
          "text": [
            "torch.Size([0, 37210935]) torch.Size([1, 37210935])\n"
          ]
        }
      ],
      "source": [
        "n = int(0.9*len(data))\n",
        "train_data = data[:n]\n",
        "val_data = data[n:]\n",
        "print(train_data.shape,val_data.shape)"
      ]
    },
    {
      "cell_type": "code",
      "execution_count": 7,
      "metadata": {
        "colab": {
          "base_uri": "https://localhost:8080/"
        },
        "id": "DAjthX2vaNx7",
        "outputId": "e824ed6e-cf40-4887-fca3-7a5f0a044124"
      },
      "outputs": [
        {
          "ename": "IndexError",
          "evalue": "index 0 is out of bounds for dimension 0 with size 0",
          "output_type": "error",
          "traceback": [
            "\u001b[0;31m---------------------------------------------------------------------------\u001b[0m",
            "\u001b[0;31mIndexError\u001b[0m                                Traceback (most recent call last)",
            "Cell \u001b[0;32mIn[7], line 1\u001b[0m\n\u001b[0;32m----> 1\u001b[0m \u001b[43mtrain_data\u001b[49m\u001b[43m[\u001b[49m\u001b[38;5;241;43m0\u001b[39;49m\u001b[43m]\u001b[49m\n",
            "\u001b[0;31mIndexError\u001b[0m: index 0 is out of bounds for dimension 0 with size 0"
          ]
        }
      ],
      "source": [
        "train_data[0]"
      ]
    },
    {
      "cell_type": "code",
      "execution_count": null,
      "metadata": {
        "colab": {
          "base_uri": "https://localhost:8080/"
        },
        "id": "O-4NjqfsagWA",
        "outputId": "e5973201-e7e1-4feb-b513-31be1c4e6d84"
      },
      "outputs": [
        {
          "data": {
            "text/plain": [
              "tensor([ 9,  3,  3,  9,  0, 10,  9,  3,  6,  9,  4, 11,  1,  8,  7,  0,  8,  4,\n",
              "        12])"
            ]
          },
          "execution_count": 7,
          "metadata": {},
          "output_type": "execute_result"
        }
      ],
      "source": [
        "val_data[0]"
      ]
    },
    {
      "cell_type": "code",
      "execution_count": null,
      "metadata": {
        "colab": {
          "base_uri": "https://localhost:8080/"
        },
        "id": "OIgbSapgvfLp",
        "outputId": "e076bb21-abeb-40b6-af85-97979d1a0624"
      },
      "outputs": [
        {
          "name": "stdout",
          "output_type": "stream",
          "text": [
            "example 1\n",
            "we want to use 10565+59540= to predict 7\n",
            "we want to use 10565+59540=7 to predict 0\n",
            "we want to use 10565+59540=70 to predict 1\n",
            "we want to use 10565+59540=701 to predict 0\n",
            "we want to use 10565+59540=7010 to predict 5\n",
            "we want to use 10565+59540=70105 to predict 12\n",
            "example 2\n",
            "we want to use 30252+24971= to predict 5\n",
            "we want to use 30252+24971=5 to predict 5\n",
            "we want to use 30252+24971=55 to predict 2\n",
            "we want to use 30252+24971=552 to predict 2\n",
            "we want to use 30252+24971=5522 to predict 3\n",
            "we want to use 30252+24971=55223 to predict 12\n",
            "example 3\n",
            "we want to use 92985+75731= to predict 1\n",
            "we want to use 92985+75731=1 to predict 6\n",
            "we want to use 92985+75731=16 to predict 8\n",
            "we want to use 92985+75731=168 to predict 7\n",
            "we want to use 92985+75731=1687 to predict 1\n",
            "we want to use 92985+75731=16871 to predict 6\n"
          ]
        }
      ],
      "source": [
        "for t in range(3):\n",
        "    print(f\"example {t+1}\")\n",
        "    for x in range(6):\n",
        "        print(f\"we want to use {real_decode(train_data[t][:12+x])} to predict {train_data[t][12+x]}\")"
      ]
    },
    {
      "cell_type": "code",
      "execution_count": 8,
      "metadata": {},
      "outputs": [
        {
          "ename": "NameError",
          "evalue": "name 'get_batch' is not defined",
          "output_type": "error",
          "traceback": [
            "\u001b[0;31m---------------------------------------------------------------------------\u001b[0m",
            "\u001b[0;31mNameError\u001b[0m                                 Traceback (most recent call last)",
            "Cell \u001b[0;32mIn[8], line 2\u001b[0m\n\u001b[1;32m      1\u001b[0m \u001b[38;5;66;03m#IMPORTANT! This bug cost me an hour. the -1 is needed because targets need to be shifted back by 1\u001b[39;00m\n\u001b[0;32m----> 2\u001b[0m xb,yb \u001b[38;5;241m=\u001b[39m \u001b[43mget_batch\u001b[49m(\u001b[38;5;124m\"\u001b[39m\u001b[38;5;124mtrain\u001b[39m\u001b[38;5;124m\"\u001b[39m)\n\u001b[1;32m      3\u001b[0m \u001b[38;5;28mprint\u001b[39m(\u001b[38;5;124m\"\u001b[39m\u001b[38;5;124minputs:\u001b[39m\u001b[38;5;124m\"\u001b[39m)\n\u001b[1;32m      4\u001b[0m \u001b[38;5;28mprint\u001b[39m(xb[:,\u001b[38;5;241m-\u001b[39m\u001b[38;5;241m8\u001b[39m:\u001b[38;5;241m-\u001b[39m\u001b[38;5;241m1\u001b[39m])\n",
            "\u001b[0;31mNameError\u001b[0m: name 'get_batch' is not defined"
          ]
        }
      ],
      "source": [
        "#IMPORTANT! This bug cost me an hour. the -1 is needed because targets need to be shifted back by 1\n",
        "xb,yb = get_batch(\"train\")\n",
        "print(\"inputs:\")\n",
        "print(xb[:,-8:-1])\n",
        "print(\"targets\")\n",
        "print(yb)"
      ]
    },
    {
      "cell_type": "code",
      "execution_count": null,
      "metadata": {
        "colab": {
          "base_uri": "https://localhost:8080/",
          "height": 930
        },
        "id": "dclvJ2pb7-TJ",
        "outputId": "972db0e6-625b-4b99-f6ea-9d353e08bf22"
      },
      "outputs": [
        {
          "ename": "NameError",
          "evalue": "name 'torch' is not defined",
          "output_type": "error",
          "traceback": [
            "\u001b[0;31m---------------------------------------------------------------------------\u001b[0m",
            "\u001b[0;31mNameError\u001b[0m                                 Traceback (most recent call last)",
            "Cell \u001b[0;32mIn[1], line 8\u001b[0m\n\u001b[1;32m      6\u001b[0m learning_rate \u001b[38;5;241m=\u001b[39m \u001b[38;5;241m0.00008\u001b[39m \u001b[38;5;66;03m#for two layer\u001b[39;00m\n\u001b[1;32m      7\u001b[0m \u001b[38;5;66;03m#learning_rate = 0.0004\u001b[39;00m\n\u001b[0;32m----> 8\u001b[0m device \u001b[38;5;241m=\u001b[39m \u001b[38;5;124m'\u001b[39m\u001b[38;5;124mcuda\u001b[39m\u001b[38;5;124m'\u001b[39m \u001b[38;5;28;01mif\u001b[39;00m \u001b[43mtorch\u001b[49m\u001b[38;5;241m.\u001b[39mcuda\u001b[38;5;241m.\u001b[39mis_available() \u001b[38;5;28;01melse\u001b[39;00m \u001b[38;5;124m'\u001b[39m\u001b[38;5;124mcpu\u001b[39m\u001b[38;5;124m'\u001b[39m\n\u001b[1;32m      9\u001b[0m eval_iters \u001b[38;5;241m=\u001b[39m \u001b[38;5;241m200\u001b[39m\n\u001b[1;32m     10\u001b[0m n_embd \u001b[38;5;241m=\u001b[39m \u001b[38;5;241m512\u001b[39m\n",
            "\u001b[0;31mNameError\u001b[0m: name 'torch' is not defined"
          ]
        }
      ],
      "source": [
        "# hyperparameters\n",
        "batch_size = 64 #how many examples to process together at once\n",
        "block_size = 19 #context length\n",
        "max_iters = 16000\n",
        "eval_interval = 400\n",
        "learning_rate = 0.00008 #for two layer\n",
        "#learning_rate = 0.0004\n",
        "device = 'cuda' if torch.cuda.is_available() else 'cpu'\n",
        "eval_iters = 200\n",
        "n_embd = 512\n",
        "n_head = 3\n",
        "n_layer = 2\n",
        "dropout = 0.2\n",
        "\n",
        "train_losses = []\n",
        "val_losses = []\n",
        "\n",
        "def get_batch(split):\n",
        "    data = train_data if split==\"train\" else val_data\n",
        "    ix = torch.randint(len(data),(batch_size,))\n",
        "    x = torch.stack([data[i] for i in ix]).to(device)\n",
        "    y = torch.stack([data[i][12:] for i in ix]).to(device)\n",
        "    return x,y\n",
        "\n",
        "\n",
        "@torch.no_grad()\n",
        "def estimate_loss():\n",
        "    out = {}\n",
        "    m.eval()\n",
        "    for split in ['train','val']:\n",
        "        losses = torch.zeros(eval_iters).to(device)\n",
        "        for k in range(eval_iters):\n",
        "            X,Y = get_batch(split)\n",
        "            logits,loss = m(X,Y)\n",
        "            losses[k] = loss.item()\n",
        "        out[split] = losses.mean()\n",
        "    m.train()\n",
        "    return out\n",
        "\n",
        "\n",
        "class FeedForward(nn.Module):\n",
        "    def __init__(self,n_embd):\n",
        "        super().__init__()\n",
        "        self.net = nn.Sequential(\n",
        "            nn.Linear(n_embd,4*n_embd),\n",
        "            nn.ReLU(),\n",
        "            nn.Linear(4*n_embd,n_embd),\n",
        "            nn.Dropout(dropout)\n",
        "        )\n",
        "\n",
        "    def forward(self,x):\n",
        "        return self.net(x)\n",
        "\n",
        "\n",
        "class Block(nn.Module):\n",
        "    def __init__(self,n_embd,n_head):\n",
        "        # n_embd = embedding dimension, n_head = num of heads\n",
        "        super().__init__()\n",
        "        head_size = n_embd // n_head\n",
        "        self.sa = ParallelMultiHeadAttention(n_head,head_size)\n",
        "        self.ffwd = FeedForward(n_embd)\n",
        "        self.ln1 = nn.LayerNorm(n_embd)\n",
        "        self.ln2 = nn.LayerNorm(n_embd)\n",
        "\n",
        "    def forward(self,x):\n",
        "        x = x + self.sa(self.ln1(x))\n",
        "        x = x + self.ffwd(self.ln2(x))\n",
        "        return x\n",
        "\n",
        "class ParallelMultiHeadAttention(nn.Module):\n",
        "    def __init__(self, num_heads, head_size):\n",
        "        super().__init__()\n",
        "        self.num_heads = num_heads\n",
        "        self.head_size = head_size\n",
        "        self.total_head_size = num_heads * head_size #this is just equal to n_embd\n",
        "\n",
        "        # Combined linear layers for all heads\n",
        "        self.key = nn.Linear(n_embd, self.total_head_size, bias=False)\n",
        "        self.query = nn.Linear(n_embd, self.total_head_size, bias=False)\n",
        "        self.value = nn.Linear(n_embd, self.total_head_size, bias=False)\n",
        "\n",
        "        self.register_buffer('tril', torch.tril(torch.ones(block_size, block_size)))\n",
        "        self.dropout = nn.Dropout(dropout)\n",
        "        self.proj = nn.Linear(self.total_head_size, n_embd)\n",
        "\n",
        "    def forward(self, x):\n",
        "        B, T, C = x.shape  # C = n_embd\n",
        "\n",
        "        # Generate key, query, and value for all heads at once\n",
        "        k = self.key(x).view(B, T, self.num_heads, self.head_size).transpose(1, 2)  # (B, nh, T, hs)\n",
        "        q = self.query(x).view(B, T, self.num_heads, self.head_size).transpose(1, 2)  # (B, nh, T, hs)\n",
        "        v = self.value(x).view(B, T, self.num_heads, self.head_size).transpose(1, 2)  # (B, nh, T, hs)\n",
        "\n",
        "        # Compute attention scores\n",
        "        wei = q @ k.transpose(-2, -1) * (self.head_size ** -0.5)  # (B, nh, T, T)\n",
        "        wei = wei.masked_fill(self.tril[:T, :T] == 0, float('-inf'))  # (B, nh, T, T)\n",
        "        wei = F.softmax(wei, dim=-1)\n",
        "        wei = self.dropout(wei)\n",
        "\n",
        "        # Apply attention to values\n",
        "        out = wei @ v  # (B, nh, T, hs)\n",
        "        out = out.transpose(1, 2).contiguous().view(B, T, self.total_head_size)  # (B, T, nh*hs)\n",
        "\n",
        "        # Final projection\n",
        "        out = self.proj(out)\n",
        "        out = self.dropout(out)\n",
        "        return out\n",
        "\n",
        "\n",
        "class DecoderLM(nn.Module):\n",
        "    def __init__(self):\n",
        "        super().__init__()\n",
        "        self.token_embedding_table = nn.Embedding(vocab_size,n_embd)\n",
        "        self.position_embedding_table = nn.Embedding(block_size,n_embd)\n",
        "        self.blocks = nn.Sequential(\n",
        "            *[Block(n_embd,n_head=n_head) for _ in range(n_layer)]\n",
        "        )\n",
        "        self.ln_f = nn.LayerNorm(n_embd)\n",
        "        self.lm_head = nn.Linear(n_embd,vocab_size)\n",
        "\n",
        "    def forward(self,idx,targets=None):\n",
        "        B,T = idx.shape\n",
        "\n",
        "        token_emb = self.token_embedding_table(idx) # shape of (batch_size,block_size,n_embd)\n",
        "        pos_emb = self.position_embedding_table(torch.arange(T,device=device))\n",
        "        x = token_emb + pos_emb\n",
        "        x = self.blocks(x)\n",
        "        x = self.ln_f(x)\n",
        "        logits = self.lm_head(x) # (B,T,vocab_size)\n",
        "\n",
        "        if targets is None:\n",
        "            loss = None\n",
        "        else:\n",
        "            B,T,C = logits.shape\n",
        "            #IMPORTANT CHANGE\n",
        "            #THE \":-1\" is KEY\n",
        "            logits = logits[:,-8:-1,:] #only calculate loss for the answer, not the random numbers\n",
        "            #print(B,T,C)\n",
        "            #print(logits.shape)\n",
        "            logits = logits.reshape(B*7,C)\n",
        "            targets = targets.view(B*7)\n",
        "            loss = F.cross_entropy(logits,targets)\n",
        "\n",
        "        return logits,loss\n",
        "\n",
        "    def generate(self,idx,max_new_tokens):\n",
        "        for _ in range(max_new_tokens):\n",
        "            idx_cond = idx[:,-block_size:]\n",
        "            logits,loss = self(idx_cond)\n",
        "            logits = logits[:,-1,:]\n",
        "            probs = F.softmax(logits,dim=-1)\n",
        "            idx_next = torch.multinomial(probs,num_samples=1)\n",
        "            if idx_next == 12:\n",
        "                break\n",
        "            idx = torch.cat((idx,idx_next),dim=1)\n",
        "        return idx\n",
        "\n",
        "m = DecoderLM().to(device)\n",
        "\n",
        "optimizer = optim.AdamW(m.parameters(),\n",
        "                        lr=learning_rate,\n",
        "                        weight_decay=0.1,\n",
        "                        betas=(0.9, 0.98))\n",
        "\n",
        "scheduler = optim.lr_scheduler.LambdaLR(optimizer, lambda step: min(step/10, 1))\n",
        "\n",
        "text= \"\"\"\n",
        "for iter in range(max_iters):\n",
        "    if iter % eval_interval == 0:\n",
        "        losses = estimate_loss()\n",
        "        print(f\"step {iter}: train loss {losses['train']:.4f}, val loss {losses['val']:.4f}\")\n",
        "        train_losses.append(losses['train'])\n",
        "        val_losses.append(losses['val'])\n",
        "\n",
        "\n",
        "    xb,yb = get_batch('train')\n",
        "    logits,loss = m(xb,yb)\n",
        "    optimizer.zero_grad(set_to_none=True)\n",
        "    loss.backward()\n",
        "    optimizer.step()\n",
        "    scheduler.step()\n",
        "\"\"\""
      ]
    },
    {
      "cell_type": "code",
      "execution_count": 29,
      "metadata": {
        "colab": {
          "base_uri": "https://localhost:8080/",
          "height": 545
        },
        "id": "4QSDLUXyO2K9",
        "outputId": "7b5e4e8d-c28d-40a4-e6ee-1ed8ee4b138b"
      },
      "outputs": [
        {
          "data": {
            "image/png": "[encoded data removed]",
            "text/plain": [
              "<Figure size 1000x600 with 1 Axes>"
            ]
          },
          "metadata": {},
          "output_type": "display_data"
        }
      ],
      "source": [
        "train_losses_np = np.array([loss.cpu().numpy() for loss in train_losses])\n",
        "val_losses_np = np.array([loss.cpu().numpy() for loss in val_losses])\n",
        "\n",
        "plt.figure(figsize=(10, 6))\n",
        "plt.plot(range(0, max_iters, eval_interval), train_losses_np, label='Train Loss')\n",
        "plt.plot(range(0, max_iters, eval_interval), val_losses_np, label='Validation Loss')\n",
        "plt.ylabel('Loss')\n",
        "plt.title('Training and Validation Loss Over Time')\n",
        "plt.legend()\n",
        "plt.grid(True)\n",
        "plt.show()"
      ]
    },
    {
      "cell_type": "code",
      "execution_count": null,
      "metadata": {
        "id": "934pqZp2u1ks"
      },
      "outputs": [],
      "source": [
        "from google.colab import files\n",
        "\n",
        "torch.save(m.state_dict(), 'my_model.pth')\n",
        "files.download('my_model.pth')"
      ]
    },
    {
      "cell_type": "code",
      "execution_count": 31,
      "metadata": {
        "colab": {
          "base_uri": "https://localhost:8080/"
        },
        "id": "_gzvW_FtvXT3",
        "outputId": "fba4a36c-ce84-4d26-e498-0ce10dbb6832"
      },
      "outputs": [
        {
          "name": "stdout",
          "output_type": "stream",
          "text": [
            "model answer:  23429+92345=115774\n",
            "actual answer:  115774\n"
          ]
        }
      ],
      "source": [
        "a = 23429\n",
        "b = 92345\n",
        "context = torch.tensor([encode(str(a)+'+'+str(b)+'=')],dtype = torch.long,device = device)\n",
        "print('model answer: ',''.join(map(str,decode(m.generate(context,max_new_tokens=20)[0]))))\n",
        "print('actual answer: ',a+b)"
      ]
    },
    {
      "cell_type": "code",
      "execution_count": 12,
      "metadata": {
        "colab": {
          "base_uri": "https://localhost:8080/"
        },
        "id": "zOTLmtKCpRTy",
        "outputId": "95964179-554b-470a-c761-75c9bb57cd6a"
      },
      "outputs": [
        {
          "data": {
            "text/plain": [
              "{'train': tensor(0.0180, device='cuda:0'),\n",
              " 'val': tensor(0.0190, device='cuda:0')}"
            ]
          },
          "execution_count": 12,
          "metadata": {},
          "output_type": "execute_result"
        }
      ],
      "source": [
        "estimate_loss()"
      ]
    },
    {
      "cell_type": "code",
      "execution_count": 13,
      "metadata": {
        "colab": {
          "base_uri": "https://localhost:8080/"
        },
        "id": "O4RGaS5pAFUL",
        "outputId": "f1014ac8-3de6-40ab-ab6a-7740058973b4"
      },
      "outputs": [
        {
          "name": "stdout",
          "output_type": "stream",
          "text": [
            "12345+12345=24690\n",
            "\n",
            "7910836955518\n"
          ]
        }
      ],
      "source": [
        "context = torch.tensor([encode('12345+12345=')],dtype = torch.long,device = device)\n",
        "print(''.join(map(str,decode(m.generate(context,max_new_tokens=20)[0]))))"
      ]
    }
  ],
  "metadata": {
    "accelerator": "GPU",
    "colab": {
      "gpuType": "T4",
      "provenance": []
    },
    "kernelspec": {
      "display_name": "Python 3",
      "name": "python3"
    },
    "language_info": {
      "codemirror_mode": {
        "name": "ipython",
        "version": 3
      },
      "file_extension": ".py",
      "mimetype": "text/x-python",
      "name": "python",
      "nbconvert_exporter": "python",
      "pygments_lexer": "ipython3",
      "version": "3.9.6"
    }
  },
  "nbformat": 4,
  "nbformat_minor": 0
}
